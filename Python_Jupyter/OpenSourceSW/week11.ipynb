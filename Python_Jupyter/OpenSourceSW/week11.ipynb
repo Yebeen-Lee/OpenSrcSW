{
 "cells": [
  {
   "cell_type": "code",
   "execution_count": 9,
   "id": "1abbbee0",
   "metadata": {},
   "outputs": [
    {
     "name": "stdout",
     "output_type": "stream",
     "text": [
      "cp file1.txt file2.txt\n"
     ]
    }
   ],
   "source": [
    "def cp(file1, file2):\n",
    "    for line in file1:\n",
    "        file2.write(line)\n",
    "        \n",
    "input_str = input().split()\n",
    "\n",
    "file1 = open(input_str[1], 'r' )\n",
    "file2 = open(input_str[2], 'w')\n",
    "\n",
    "if input_str[0] == \"cp\":\n",
    "    cp(file1, file2)\n",
    "    \n",
    "file1.close()\n",
    "file2.close()\n"
   ]
  },
  {
   "cell_type": "code",
   "execution_count": 11,
   "id": "b992ece0",
   "metadata": {},
   "outputs": [
    {
     "name": "stdout",
     "output_type": "stream",
     "text": [
      "wc file1.txt\n",
      "# of lines : 5\n",
      "# of words : 11\n"
     ]
    }
   ],
   "source": [
    "def wc(file_name):\n",
    "    wordsCnt = 0\n",
    "    linesCnt = 0\n",
    "    for line in file_name:\n",
    "        linesCnt += 1\n",
    "        wordsCnt += line.count(' ')+1\n",
    "    print(\"# of lines : {0:d}\".format(linesCnt))\n",
    "    print(\"# of words : {0:d}\".format(wordsCnt))\n",
    "\n",
    "input_str = input().split()\n",
    "\n",
    "file = open(input_str[1], 'r')\n",
    "\n",
    "if input_str[0]==\"wc\":\n",
    "    wc(file)"
   ]
  },
  {
   "cell_type": "code",
   "execution_count": 15,
   "id": "42f45b63",
   "metadata": {},
   "outputs": [
    {
     "name": "stdout",
     "output_type": "stream",
     "text": [
      "1 + 2 = 3 입니다.\n",
      "5 - 1 = 4 입니다.\n",
      "2 * 3 = 6 입니다.\n",
      "6 / 2 = 3.000000 입니다.\n"
     ]
    }
   ],
   "source": [
    "# -*- coding: cp949 -*-\n",
    "\n",
    "class Calc:\n",
    "    def sum(self, a, b):\n",
    "        result = a+b\n",
    "        print(\"{0:d} + {1:d} = {2:d} 입니다.\".format(a, b, result))\n",
    "    def sub(self, a, b):\n",
    "        result = a-b\n",
    "        print(\"{0:d} - {1:d} = {2:d} 입니다.\".format(a, b, result))\n",
    "    def multi(self, a, b):\n",
    "        result = a*b\n",
    "        print(\"{0:d} * {1:d} = {2:d} 입니다.\".format(a, b, result))\n",
    "    def divi(self, a, b):\n",
    "        result = a/b\n",
    "        print(\"{0:d} / {1:d} = {2:f} 입니다.\".format(a, b, result))\n",
    "        \n",
    "if __name__ == \"__main__\":\n",
    "    calc = Calc()\n",
    "    calc.sum(1,2)\n",
    "    calc.sub(5,1)\n",
    "    calc.multi(2,3)\n",
    "    calc.divi(6,2)"
   ]
  },
  {
   "cell_type": "code",
   "execution_count": 12,
   "id": "79394510",
   "metadata": {
    "scrolled": true
   },
   "outputs": [
    {
     "name": "stdout",
     "output_type": "stream",
     "text": [
      "1 + 2 - 3 * 4 + 5\n",
      "1+2-3*4+5=-4\n"
     ]
    }
   ],
   "source": [
    "class Stack:\n",
    "    def __init__ (self):\n",
    "        self.top = []\n",
    "    \n",
    "    def __len__(self):\n",
    "        return len(self.top)\n",
    "\n",
    "    def push (self, item):\n",
    "        self.top.append(item)\n",
    "\n",
    "    def pop(self):\n",
    "        if not self.isEmpty():\n",
    "            return self.top.pop()\n",
    "        else:\n",
    "            print(\"Stack underflow\")\n",
    "            exit()\n",
    "\n",
    "    def isEmpty(self):\n",
    "        return len(self.top)==0\n",
    "    \n",
    "    def size(self):\n",
    "        return len(self.top)\n",
    "    \n",
    "input_str = input().split()\n",
    "str = \"\" # 공백을 제외한 input_str\n",
    "OPER = ['-', '+', '*', '/']\n",
    "\n",
    "num = Stack() # 숫자 스택\n",
    "op = Stack() # 연산자 스택\n",
    "tag = 0 # 연산자 스택의 top이 *,/일 때 tag=1\n",
    "\n",
    "for i in input_str:\n",
    "    str = str+i\n",
    "    if i not in OPER:# 숫자이면\n",
    "        num.push(i)\n",
    "        if tag==1: # 연산자 스택의 top이 *,/일 때 \n",
    "            n2 = int(num.pop())\n",
    "            n1 = int(num.pop())\n",
    "            oper = op.pop()\n",
    "            if oper=='*':\n",
    "                num.push(n1*n2) # 곱셈 연산 수행\n",
    "            else :\n",
    "                num.push(n1/n2) # 나눗셈 연산 수행\n",
    "            tag = 0\n",
    "    elif i in OPER: # 연산자이면\n",
    "        if i in OPER[2:4]: # 연산자가 *,/일 때\n",
    "            tag = 1\n",
    "        op.push(i)\n",
    "        \n",
    "# +, - 연산을 앞에서부터 순차적으로 수행하기 위해 list를 reverse()\n",
    "num.top.reverse()\n",
    "op.top.reverse()\n",
    "\n",
    "while(not op.isEmpty()):\n",
    "    n1 = int(num.pop())\n",
    "    n2 = int(num.pop())\n",
    "    oper = op.pop()\n",
    "    if oper=='+':\n",
    "        num.push(n1+n2)\n",
    "    elif oper=='-':\n",
    "        num.push(n1-n2)\n",
    "        \n",
    "print(str+\"={0:d}\".format(num.pop()))"
   ]
  }
 ],
 "metadata": {
  "kernelspec": {
   "display_name": "Python 3",
   "language": "python",
   "name": "python3"
  },
  "language_info": {
   "codemirror_mode": {
    "name": "ipython",
    "version": 3
   },
   "file_extension": ".py",
   "mimetype": "text/x-python",
   "name": "python",
   "nbconvert_exporter": "python",
   "pygments_lexer": "ipython3",
   "version": "3.9.4"
  }
 },
 "nbformat": 4,
 "nbformat_minor": 5
}
