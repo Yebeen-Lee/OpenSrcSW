{
 "cells": [
  {
   "cell_type": "code",
   "execution_count": 66,
   "id": "9d0f4ab4",
   "metadata": {},
   "outputs": [
    {
     "name": "stdout",
     "output_type": "stream",
     "text": [
      "Numbers? 10 456 87 78\n",
      "Max = 456\n"
     ]
    }
   ],
   "source": [
    "numbers = input(\"Numbers? \").split()\n",
    "max = int(numbers[0])\n",
    "for num in numbers:\n",
    "    if int(num) > max:\n",
    "        max = int(num)\n",
    "print(\"Max =\",max)"
   ]
  },
  {
   "cell_type": "code",
   "execution_count": 69,
   "id": "0aa6e851",
   "metadata": {},
   "outputs": [
    {
     "name": "stdout",
     "output_type": "stream",
     "text": [
      "input string for encoding : abc def\n",
      "efg bcd\n",
      "input string for decoding : efg bcd\n",
      "abc def\n"
     ]
    }
   ],
   "source": [
    "input_str = input(\"input string for encoding : \").split()\n",
    "input_str.reverse()\n",
    "index=0\n",
    "for i in input_str:\n",
    "    str=\"\"\n",
    "    for j in range(len(i)):\n",
    "        str += chr(ord(i[j])+1)\n",
    "    input_str[index]=str\n",
    "    index += 1\n",
    "input_str = ' '.join(input_str)\n",
    "print(input_str)\n",
    "\n",
    "input_str2 = input(\"input string for decoding : \").split()\n",
    "index = 0\n",
    "for i in input_str2:\n",
    "    str=\"\"\n",
    "    for j in range(len(i)):\n",
    "        str += chr(ord(i[j])-1)\n",
    "    input_str2[index] = str\n",
    "    index += 1\n",
    "input_str2.reverse()\n",
    "input_str2 = ' '.join(input_str2)\n",
    "print(input_str2)\n"
   ]
  },
  {
   "cell_type": "code",
   "execution_count": 72,
   "id": "00c00152",
   "metadata": {},
   "outputs": [
    {
     "name": "stdout",
     "output_type": "stream",
     "text": [
      "input 10 people's phone number : \n",
      "aaa 111\n",
      "bbb 222\n",
      "ccc 333\n",
      "ddd 444\n",
      "eee 555\n",
      "fff 666\n",
      "ggg 777\n",
      "hhh 888\n",
      "iii 999\n",
      "jjj 101010\n",
      "input name : aaa\n",
      "111\n",
      "input phone number : 555\n",
      "['eee']\n"
     ]
    }
   ],
   "source": [
    "dic = {}\n",
    "print(\"input 10 people's phone number : \");\n",
    "for i in range(10):\n",
    "    data = input().split()\n",
    "    key = data[0]\n",
    "    value = data[1]\n",
    "    dic[key] = value\n",
    "name = input(\"input name : \")\n",
    "print(dic[name])\n",
    "phone = input(\"input phone number : \")\n",
    "print([k for k, v in dic.items() if v==phone])"
   ]
  },
  {
   "cell_type": "code",
   "execution_count": null,
   "id": "5b4650d8",
   "metadata": {},
   "outputs": [],
   "source": []
  }
 ],
 "metadata": {
  "kernelspec": {
   "display_name": "Python 3",
   "language": "python",
   "name": "python3"
  },
  "language_info": {
   "codemirror_mode": {
    "name": "ipython",
    "version": 3
   },
   "file_extension": ".py",
   "mimetype": "text/x-python",
   "name": "python",
   "nbconvert_exporter": "python",
   "pygments_lexer": "ipython3",
   "version": "3.9.4"
  }
 },
 "nbformat": 4,
 "nbformat_minor": 5
}
