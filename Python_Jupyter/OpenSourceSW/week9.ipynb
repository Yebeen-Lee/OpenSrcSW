{
 "cells": [
  {
   "cell_type": "code",
   "execution_count": 1,
   "id": "fffd015b",
   "metadata": {},
   "outputs": [
    {
     "name": "stdout",
     "output_type": "stream",
     "text": [
      "x : 2\n",
      "함숫값 : 25\n"
     ]
    }
   ],
   "source": [
    "x = int(input(\"x : \"))\n",
    "y = 3*(x**2) + 5*x + 3\n",
    "print(\"함숫값 :\", y)"
   ]
  },
  {
   "cell_type": "code",
   "execution_count": 2,
   "id": "89f56f1d",
   "metadata": {},
   "outputs": [
    {
     "name": "stdout",
     "output_type": "stream",
     "text": [
      "r : 2\n",
      "원의 둘레 : 12.56\n",
      "원의 넓이 : 12.56\n"
     ]
    }
   ],
   "source": [
    "r = int(input(\"r : \"))\n",
    "pi = 3.14\n",
    "L = 2*pi*r\n",
    "S = pi*(r**2)\n",
    "print(\"원의 둘레 :\", L)\n",
    "print(\"원의 넓이 :\", S)"
   ]
  }
 ],
 "metadata": {
  "kernelspec": {
   "display_name": "Python 3",
   "language": "python",
   "name": "python3"
  },
  "language_info": {
   "codemirror_mode": {
    "name": "ipython",
    "version": 3
   },
   "file_extension": ".py",
   "mimetype": "text/x-python",
   "name": "python",
   "nbconvert_exporter": "python",
   "pygments_lexer": "ipython3",
   "version": "3.9.4"
  }
 },
 "nbformat": 4,
 "nbformat_minor": 5
}
