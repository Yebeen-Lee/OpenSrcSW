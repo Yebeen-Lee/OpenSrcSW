{
 "cells": [
  {
   "cell_type": "code",
   "execution_count": 13,
   "id": "b55bd1d1",
   "metadata": {},
   "outputs": [
    {
     "name": "stdout",
     "output_type": "stream",
     "text": [
      "(1,2)\n",
      "(3,4)\n",
      "(4,6)\n"
     ]
    }
   ],
   "source": [
    "class Point:\n",
    "    x = 0\n",
    "    y = 0\n",
    "    def __init__(self, xx, yy):\n",
    "        self.x = xx\n",
    "        self.y = yy\n",
    "    def show(self):\n",
    "        print(\"({0:d},{1:d})\".format(self.x, self.y))\n",
    "    def __add__(self, other):\n",
    "        self.x = int(self.x + other.x)\n",
    "        self.y = int(self.y + other.y)\n",
    "        return self\n",
    "a = Point(1,2)\n",
    "a.show()\n",
    "\n",
    "b = Point(3,4)\n",
    "b.show()\n",
    "\n",
    "a = a+b\n",
    "a.show()\n"
   ]
  },
  {
   "cell_type": "code",
   "execution_count": 24,
   "id": "7ebe64f2",
   "metadata": {},
   "outputs": [
    {
     "name": "stdout",
     "output_type": "stream",
     "text": [
      "Max Week 05/8 ~ 05/14\n"
     ]
    }
   ],
   "source": [
    "import csv\n",
    "\n",
    "f = open(\"seoul.csv\", 'r', encoding='cp949')\n",
    "data = csv.reader(f, delimiter=',')\n",
    "next(data)\n",
    "M = ''\n",
    "D = ''\n",
    "sumWeek = 0.0\n",
    "sumMax = -999.9\n",
    "cnt = 1\n",
    "maxWeek = ''\n",
    "for row in data:\n",
    "    date = row[0].split('-')\n",
    "    M = date[1]\n",
    "    D = date[2]\n",
    "    sumWeek += (float(row[-1]) - float(row[-2]))\n",
    "    if cnt == 7:\n",
    "        if sumWeek>sumMax:\n",
    "            sumMax = sumWeek\n",
    "            maxWeek = \"{0:s}/{1:s} ~ {2:s}/{3:s}\".format(M,str(int(D)-6),M,D)\n",
    "        cnt = 0\n",
    "        sumWeek = 0.0\n",
    "    cnt += 1\n",
    "print(\"Max Week\",maxWeek)"
   ]
  },
  {
   "cell_type": "code",
   "execution_count": 60,
   "id": "9581526b",
   "metadata": {},
   "outputs": [
    {
     "data": {
      "image/png": "[encoded data removed]",
      "text/plain": [
       "<Figure size 432x288 with 1 Axes>"
      ]
     },
     "metadata": {
      "needs_background": "light"
     },
     "output_type": "display_data"
    }
   ],
   "source": [
    "# -*- coding:cp949 -*-\n",
    "import numpy as np\n",
    "import matplotlib.pyplot as plt\n",
    "import math\n",
    "Docs = (np.random.randint(0,2,18)).reshape(3,6)\n",
    "\n",
    "Query = (np.random.randint(0,2,6))\n",
    "\n",
    "sims = []\n",
    "for Doc in Docs:\n",
    "    sim = 0.0\n",
    "    up = 0.0\n",
    "    down = 0.0\n",
    "    for i in range(len(Doc)):\n",
    "        up += Doc[i]*Query[i]\n",
    "        down += Doc[i]**2 + Query[i]**2\n",
    "    down = math.sqrt(down)\n",
    "    sim = up/down\n",
    "    sims.append(sim)\n",
    "\n",
    "plt.title(\"Cosine similarities\")\n",
    "plt.bar([\"doc1={0:f}\".format(sims[0]),\"doc2={0:f}\".format(sims[1]),\"doc3={0:f}\".format(sims[2])],sims)\n",
    "plt.show()"
   ]
  }
 ],
 "metadata": {
  "kernelspec": {
   "display_name": "Python 3",
   "language": "python",
   "name": "python3"
  },
  "language_info": {
   "codemirror_mode": {
    "name": "ipython",
    "version": 3
   },
   "file_extension": ".py",
   "mimetype": "text/x-python",
   "name": "python",
   "nbconvert_exporter": "python",
   "pygments_lexer": "ipython3",
   "version": "3.9.4"
  }
 },
 "nbformat": 4,
 "nbformat_minor": 5
}
